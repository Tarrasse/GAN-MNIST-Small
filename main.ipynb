{
 "cells": [
  {
   "cell_type": "markdown",
   "metadata": {},
   "source": [
    "# importing the dateset"
   ]
  },
  {
   "cell_type": "code",
   "execution_count": 1,
   "metadata": {},
   "outputs": [
    {
     "name": "stderr",
     "output_type": "stream",
     "text": [
      "Using TensorFlow backend.\n"
     ]
    },
    {
     "name": "stdout",
     "output_type": "stream",
     "text": [
      "Downloading data from https://s3.amazonaws.com/img-datasets/mnist.npz\n",
      "11411456/11490434 [============================>.] - ETA: 0s"
     ]
    }
   ],
   "source": [
    "from keras.datasets import mnist\n",
    "import numpy as np\n",
    "\n",
    "(x_train, y_train), (x_test, y_test) = mnist.load_data()"
   ]
  },
  {
   "cell_type": "code",
   "execution_count": 2,
   "metadata": {
    "collapsed": true
   },
   "outputs": [],
   "source": [
    "import matplotlib.pyplot as plt\n",
    "%matplotlib inline"
   ]
  },
  {
   "cell_type": "code",
   "execution_count": 3,
   "metadata": {},
   "outputs": [
    {
     "data": {
      "text/plain": [
       "<matplotlib.image.AxesImage at 0x7fc46abc30b8>"
      ]
     },
     "execution_count": 3,
     "metadata": {},
     "output_type": "execute_result"
    },
    {
     "data": {
      "image/png": "[encoded data removed]",
      "text/plain": [
       "<matplotlib.figure.Figure at 0x7fc46abd3668>"
      ]
     },
     "metadata": {},
     "output_type": "display_data"
    }
   ],
   "source": [
    "plt.imshow(x_train[0], cmap='gray')"
   ]
  },
  {
   "cell_type": "markdown",
   "metadata": {},
   "source": [
    "### data pre processing"
   ]
  },
  {
   "cell_type": "code",
   "execution_count": 4,
   "metadata": {
    "collapsed": true
   },
   "outputs": [],
   "source": [
    "# store original train and test sets \n",
    "\n",
    "(x_train_orig, y_train_orig), (x_test_orig, y_test_orig) = (x_train, y_train), (x_test, y_test)"
   ]
  },
  {
   "cell_type": "code",
   "execution_count": 5,
   "metadata": {
    "collapsed": true
   },
   "outputs": [],
   "source": [
    "def preprocess(x):    \n",
    "    x = x.reshape(-1, 1, 784) # 784=28*28\n",
    "    x = np.float64(x)\n",
    "    x = (x / 255 - 0.5) * 2\n",
    "    x = np.clip(x, -1, 1)\n",
    "    return x\n",
    "\n",
    "x_train = preprocess(x_train)\n",
    "x_test = preprocess(x_test)"
   ]
  },
  {
   "cell_type": "code",
   "execution_count": 6,
   "metadata": {
    "collapsed": true
   },
   "outputs": [],
   "source": [
    "def depreprocess(x):\n",
    "    x = (x / 2 + 1) * 255\n",
    "    x = np.clip(x, 0, 255)\n",
    "    x = np.uint8(x)\n",
    "    x = x.reshape(28, 28)\n",
    "    return x"
   ]
  },
  {
   "cell_type": "markdown",
   "metadata": {},
   "source": [
    "# creating the model"
   ]
  },
  {
   "cell_type": "code",
   "execution_count": 7,
   "metadata": {
    "collapsed": true
   },
   "outputs": [],
   "source": [
    "import keras as K\n",
    "from keras.models import Sequential\n",
    "from keras.layers import Input, Dense, Activation, LeakyReLU, BatchNormalization, Flatten\n",
    "from keras.optimizers import Adam\n",
    "\n",
    "ctx.integrate_with_keras()"
   ]
  },
  {
   "cell_type": "markdown",
   "metadata": {},
   "source": [
    "### the generator "
   ]
  },
  {
   "cell_type": "code",
   "execution_count": 8,
   "metadata": {
    "collapsed": true
   },
   "outputs": [],
   "source": [
    "generator = Sequential(name=\"generator\")\n",
    "generator.add(Dense(units=256, input_shape=(1, 128)))\n",
    "generator.add(LeakyReLU(alpha=0.01))\n",
    "generator.add(Dense(512))\n",
    "generator.add(LeakyReLU(alpha=0.01))\n",
    "generator.add(Dense(784))\n",
    "\n",
    "generator.add(Activation(\"tanh\"))"
   ]
  },
  {
   "cell_type": "markdown",
   "metadata": {},
   "source": [
    "### the discriminator"
   ]
  },
  {
   "cell_type": "code",
   "execution_count": 9,
   "metadata": {
    "collapsed": true
   },
   "outputs": [],
   "source": [
    "discriminator = Sequential(name = \"discriminator\")\n",
    "discriminator.add(Dense(units=512,input_shape=(1, 784)))\n",
    "discriminator.add(LeakyReLU(alpha=0.01))\n",
    "discriminator.add(Dense(265))\n",
    "discriminator.add(LeakyReLU(alpha=0.01))\n",
    "discriminator.add(Dense(128))\n",
    "discriminator.add(LeakyReLU(alpha=0.01))\n",
    "discriminator.add(Dense(1))\n",
    "discriminator.add(Flatten())\n",
    "discriminator.add(Activation('sigmoid'))"
   ]
  },
  {
   "cell_type": "code",
   "execution_count": 10,
   "metadata": {
    "collapsed": true
   },
   "outputs": [],
   "source": [
    "gan = Sequential([\n",
    "    generator,\n",
    "    discriminator\n",
    "])"
   ]
  },
  {
   "cell_type": "code",
   "execution_count": 11,
   "metadata": {
    "collapsed": true
   },
   "outputs": [],
   "source": [
    "def make_trainable(model, trainable):\n",
    "    for layer in model.layers:\n",
    "        layer.trainable = trainable"
   ]
  },
  {
   "cell_type": "code",
   "execution_count": 12,
   "metadata": {
    "collapsed": true
   },
   "outputs": [],
   "source": [
    "g_learning_rate = 0.01  # learning rate for the generator\n",
    "d_learning_rate = 0.01   # learning rate for the discriminator\n",
    "\n",
    "discriminator.compile(optimizer=Adam(lr=d_learning_rate,decay=1e-6), loss='binary_crossentropy')\n",
    "gan.compile(optimizer=Adam(lr=g_learning_rate, decay=1e-6), loss='binary_crossentropy')"
   ]
  },
  {
   "cell_type": "markdown",
   "metadata": {},
   "source": [
    "# Training"
   ]
  },
  {
   "cell_type": "code",
   "execution_count": 13,
   "metadata": {
    "collapsed": true
   },
   "outputs": [],
   "source": [
    "def make_samples(batch_size):\n",
    "    return np.random.normal(size=(batch_size, 1, 128))"
   ]
  },
  {
   "cell_type": "code",
   "execution_count": 14,
   "metadata": {
    "collapsed": true
   },
   "outputs": [],
   "source": [
    "def zeros(batch_size):\n",
    "    return np.zeros((batch_size,1))\n",
    "\n",
    "def ones(batch_size):\n",
    "    return np.ones((batch_size,1))"
   ]
  },
  {
   "cell_type": "code",
   "execution_count": 33,
   "metadata": {},
   "outputs": [
    {
     "name": "stdout",
     "output_type": "stream",
     "text": [
      "Epoch:   1/50 Discriminator Loss: 1.2830 Generator Loss: 1.7510\n",
      "Epoch:   2/50 Discriminator Loss: 0.4008 Generator Loss: 3.0940\n",
      "Epoch:   3/50 Discriminator Loss: 0.4953 Generator Loss: 2.3277\n",
      "Epoch:   4/50 Discriminator Loss: 0.7307 Generator Loss: 2.6453\n",
      "Epoch:   5/50 Discriminator Loss: 0.5914 Generator Loss: 2.6369\n",
      "Epoch:   6/50 Discriminator Loss: 0.7861 Generator Loss: 2.2398\n",
      "Epoch:   7/50 Discriminator Loss: 0.4418 Generator Loss: 2.4533\n",
      "Epoch:   8/50 Discriminator Loss: 0.5742 Generator Loss: 2.3006\n",
      "Epoch:   9/50 Discriminator Loss: 0.5413 Generator Loss: 2.2178\n",
      "Epoch:  10/50 Discriminator Loss: 0.7690 Generator Loss: 2.5287\n",
      "Epoch:  11/50 Discriminator Loss: 0.8150 Generator Loss: 2.2773\n",
      "Epoch:  12/50 Discriminator Loss: 0.6884 Generator Loss: 2.0132\n",
      "Epoch:  13/50 Discriminator Loss: 0.6237 Generator Loss: 2.3607\n",
      "Epoch:  14/50 Discriminator Loss: 0.6716 Generator Loss: 2.8052\n",
      "Epoch:  15/50 Discriminator Loss: 0.4598 Generator Loss: 2.4050\n",
      "Epoch:  16/50 Discriminator Loss: 0.8410 Generator Loss: 2.5525\n",
      "Epoch:  17/50 Discriminator Loss: 0.6946 Generator Loss: 2.1307\n",
      "Epoch:  18/50 Discriminator Loss: 0.6859 Generator Loss: 2.1498\n",
      "Epoch:  19/50 Discriminator Loss: 0.6712 Generator Loss: 1.7680\n",
      "Epoch:  20/50 Discriminator Loss: 0.7977 Generator Loss: 2.2537\n",
      "Epoch:  21/50 Discriminator Loss: 0.7241 Generator Loss: 2.1083\n",
      "Epoch:  22/50 Discriminator Loss: 0.6035 Generator Loss: 2.2925\n",
      "Epoch:  23/50 Discriminator Loss: 0.7865 Generator Loss: 2.7514\n",
      "Epoch:  24/50 Discriminator Loss: 0.6073 Generator Loss: 2.3094\n",
      "Epoch:  25/50 Discriminator Loss: 0.5895 Generator Loss: 2.1849\n",
      "Epoch:  26/50 Discriminator Loss: 0.4726 Generator Loss: 2.1138\n",
      "Epoch:  27/50 Discriminator Loss: 0.6805 Generator Loss: 2.1610\n",
      "Epoch:  28/50 Discriminator Loss: 0.5036 Generator Loss: 2.3171\n",
      "Epoch:  29/50 Discriminator Loss: 0.4652 Generator Loss: 2.5345\n",
      "Epoch:  30/50 Discriminator Loss: 1.0169 Generator Loss: 2.6572\n",
      "Epoch:  31/50 Discriminator Loss: 0.9040 Generator Loss: 2.6964\n",
      "Epoch:  32/50 Discriminator Loss: 0.3824 Generator Loss: 2.8531\n",
      "Epoch:  33/50 Discriminator Loss: 0.3251 Generator Loss: 2.4340\n",
      "Epoch:  34/50 Discriminator Loss: 1.1190 Generator Loss: 2.1761\n",
      "Epoch:  35/50 Discriminator Loss: 0.5526 Generator Loss: 2.5445\n",
      "Epoch:  36/50 Discriminator Loss: 0.4305 Generator Loss: 2.3241\n",
      "Epoch:  37/50 Discriminator Loss: 0.2858 Generator Loss: 2.6599\n",
      "Epoch:  38/50 Discriminator Loss: 0.7125 Generator Loss: 2.4718\n",
      "Epoch:  39/50 Discriminator Loss: 0.5670 Generator Loss: 2.6115\n",
      "Epoch:  40/50 Discriminator Loss: 0.7152 Generator Loss: 2.0043\n",
      "Epoch:  41/50 Discriminator Loss: 0.4349 Generator Loss: 2.3868\n",
      "Epoch:  42/50 Discriminator Loss: 1.0417 Generator Loss: 3.3657\n",
      "Epoch:  43/50 Discriminator Loss: 0.8905 Generator Loss: 2.3346\n",
      "Epoch:  44/50 Discriminator Loss: 0.5353 Generator Loss: 2.1707\n",
      "Epoch:  45/50 Discriminator Loss: 0.4744 Generator Loss: 2.1404\n",
      "Epoch:  46/50 Discriminator Loss: 0.8345 Generator Loss: 1.9787\n",
      "Epoch:  47/50 Discriminator Loss: 1.7789 Generator Loss: 2.7921\n",
      "Epoch:  48/50 Discriminator Loss: 0.6466 Generator Loss: 2.6157\n",
      "Epoch:  49/50 Discriminator Loss: 0.4653 Generator Loss: 2.9970\n",
      "Epoch:  50/50 Discriminator Loss: 0.9166 Generator Loss: 2.3490\n"
     ]
    }
   ],
   "source": [
    "epochs = 50\n",
    "batch_size = 128\n",
    "m = x_train.shape[0]\n",
    "eval_size = 16\n",
    "smooth = 0.1\n",
    "\n",
    "\n",
    "losses = []\n",
    "\n",
    "for epoch in range(epochs):\n",
    "    for i in range(m // batch_size):\n",
    "        X_batch_real = x_train[i*batch_size:(i+1)*batch_size]\n",
    "                \n",
    "        # generate fake images from by the generator\n",
    "        latent_samples = make_samples(batch_size)\n",
    "        X_batch_fake = generator.predict_on_batch(latent_samples)\n",
    "        \n",
    "        # train the discriminator to detect real and fake images\n",
    "        make_trainable(discriminator, True)\n",
    "        discriminator.train_on_batch(X_batch_real, ones(batch_size) * (1 - smooth))\n",
    "        discriminator.train_on_batch(X_batch_fake, zeros(batch_size))\n",
    "        \n",
    "        #train the generator via gan\n",
    "        make_trainable(discriminator, False)\n",
    "        gan.train_on_batch(latent_samples, ones(batch_size))\n",
    "        \n",
    "    # evaluate\n",
    "    X_eval_real = x_test[np.random.choice(len(x_test), eval_size, replace=False)]\n",
    "\n",
    "    latent_samples = make_samples(eval_size)\n",
    "    X_eval_fake = generator.predict_on_batch(latent_samples)\n",
    "\n",
    "    d_loss  = discriminator.test_on_batch(X_eval_real, ones(eval_size))\n",
    "    d_loss += discriminator.test_on_batch(X_eval_fake, zeros(eval_size))\n",
    "    # we want the fake to be realistic!\n",
    "    g_loss  = gan.test_on_batch(latent_samples, ones(eval_size)) \n",
    "    \n",
    "    losses.append((d_loss, g_loss))\n",
    "    \n",
    "    print(\"Epoch: {:>3}/{} Discriminator Loss: {:>6.4f} Generator Loss: {:>6.4f}\".format(\n",
    "        epoch+1, epochs, d_loss, g_loss))\n",
    "    "
   ]
  },
  {
   "cell_type": "code",
   "execution_count": 34,
   "metadata": {},
   "outputs": [
    {
     "data": {
      "text/plain": [
       "<matplotlib.image.AxesImage at 0x7fc40b62a1d0>"
      ]
     },
     "execution_count": 34,
     "metadata": {},
     "output_type": "execute_result"
    },
    {
     "data": {
      "image/png": "[encoded data removed]",
      "text/plain": [
       "<matplotlib.figure.Figure at 0x7fc410985518>"
      ]
     },
     "metadata": {},
     "output_type": "display_data"
    }
   ],
   "source": [
    "plt.imshow(depreprocess(generator.predict(make_samples(1))), cmap=\"gray\")"
   ]
  },
  {
   "cell_type": "code",
   "execution_count": 35,
   "metadata": {},
   "outputs": [
    {
     "data": {
      "image/png": "[encoded data removed]",
      "text/plain": [
       "<matplotlib.figure.Figure at 0x7fc40b600860>"
      ]
     },
     "metadata": {},
     "output_type": "display_data"
    }
   ],
   "source": [
    "latent_samples = make_samples(20)\n",
    "generated_digits = generator.predict(latent_samples)\n",
    "\n",
    "plt.figure(figsize=(10, 8))\n",
    "for i in range(20):\n",
    "    img = depreprocess(generated_digits[i])\n",
    "    plt.subplot(4, 5, i+1)\n",
    "    plt.imshow(img, cmap='gray')\n",
    "    plt.xticks([])\n",
    "    plt.yticks([])\n",
    "plt.tight_layout()\n",
    "plt.show()"
   ]
  },
  {
   "cell_type": "code",
   "execution_count": null,
   "metadata": {
    "collapsed": true
   },
   "outputs": [],
   "source": []
  }
 ],
 "metadata": {
  "kernelspec": {
   "display_name": "Neptune",
   "language": "",
   "name": "neptune-kernel"
  }
 },
 "nbformat": 4,
 "nbformat_minor": 2
}
